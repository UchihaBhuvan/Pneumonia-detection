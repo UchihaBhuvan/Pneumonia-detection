{
 "cells": [
  {
   "cell_type": "code",
   "execution_count": 3,
   "id": "adef93c4",
   "metadata": {},
   "outputs": [],
   "source": [
    "import numpy as np\n",
    "import matplotlib.image as mpimg\n",
    "import matplotlib.pyplot as plt\n",
    "import random\n",
    "from skimage import exposure\n",
    "from skimage.util import random_noise\n",
    "from skimage import transform\n",
    "from cv2 import resize"
   ]
  },
  {
   "cell_type": "code",
   "execution_count": 4,
   "id": "a989514b",
   "metadata": {},
   "outputs": [],
   "source": [
    "img = mpimg.imread('cat1.jpg')"
   ]
  },
  {
   "cell_type": "code",
   "execution_count": null,
   "id": "2c94121e",
   "metadata": {},
   "outputs": [],
   "source": []
  }
 ],
 "metadata": {
  "kernelspec": {
   "display_name": "Python 3 (ipykernel)",
   "language": "python",
   "name": "python3"
  },
  "language_info": {
   "codemirror_mode": {
    "name": "ipython",
    "version": 3
   },
   "file_extension": ".py",
   "mimetype": "text/x-python",
   "name": "python",
   "nbconvert_exporter": "python",
   "pygments_lexer": "ipython3",
   "version": "3.11.1"
  }
 },
 "nbformat": 4,
 "nbformat_minor": 5
}
